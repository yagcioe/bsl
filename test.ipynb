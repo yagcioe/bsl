{
 "cells": [
  {
   "cell_type": "code",
   "execution_count": 16,
   "metadata": {},
   "outputs": [
    {
     "name": "stdout",
     "output_type": "stream",
     "text": [
      "[PhysicalDevice(name='/physical_device:GPU:0', device_type='GPU')]\n",
      "[PhysicalDevice(name='/physical_device:CPU:0', device_type='CPU')]\n"
     ]
    }
   ],
   "source": [
    "from tensorflow import keras\n",
    "import tensorflow as tf\n",
    "import matplotlib.pyplot as plt\n",
    "import numpy as np\n",
    "import scipy as sp\n",
    "\n",
    "print(tf.config.list_physical_devices('GPU'))\n",
    "print(tf.config.list_physical_devices('CPU'))\n"
   ]
  },
  {
   "cell_type": "code",
   "execution_count": null,
   "metadata": {},
   "outputs": [],
   "source": [
    "def loadInputData(path: str):\n",
    "    pass\n",
    "\n",
    "# transforms a WAV file into a npArray of shape(1, F, 3) (Time, Feq, Hue)\n",
    "def fourierTransform(wav):\n",
    "    pass\n",
    "\n",
    "# normalizes, so every Component of the furier transform is in [0,1]\n",
    "def normalizeFurierTransform():\n",
    "    pass"
   ]
  },
  {
   "cell_type": "code",
   "execution_count": 17,
   "metadata": {},
   "outputs": [],
   "source": [
    "from keras.datasets import boston_housing\n",
    "(train_input, train_label), (test_input, test_label) = boston_housing.load_data(test_split=0.2)\n"
   ]
  },
  {
   "cell_type": "code",
   "execution_count": 18,
   "metadata": {},
   "outputs": [
    {
     "name": "stdout",
     "output_type": "stream",
     "text": [
      "[88.9762, 100.0, 27.74, 1.0, 0.871, 8.725, 100.0, 10.7103, 24.0, 711.0, 22.0, 396.9, 37.97]\n",
      "[[1.38516817e-02 0.00000000e+00 2.93439077e-01 ... 9.54545455e-01\n",
      "  1.00000000e+00 4.93020806e-01]\n",
      " [2.44672171e-04 8.25000000e-01 7.31795242e-02 ... 6.68181818e-01\n",
      "  9.96170320e-01 8.19067685e-02]\n",
      " [5.50509013e-02 0.00000000e+00 6.52487383e-01 ... 9.18181818e-01\n",
      "  9.46132527e-01 8.58572557e-02]\n",
      " ...\n",
      " [3.89542372e-04 3.50000000e-01 2.18457102e-01 ... 7.68181818e-01\n",
      "  9.12698413e-01 2.06215433e-01]\n",
      " [2.41545492e-02 0.00000000e+00 7.05839942e-01 ... 6.68181818e-01\n",
      "  6.59989922e-01 4.15854622e-01]\n",
      " [1.61728642e-04 6.00000000e-01 1.05623648e-01 ... 7.09090909e-01\n",
      "  9.49105568e-01 1.15354227e-01]]\n"
     ]
    }
   ],
   "source": [
    "max_input = [np.amax(train_input[:,i]) for i in range(train_input.shape[1])]\n",
    "print(max_input)\n",
    "normalizedTrainInput = train_input / max_input\n",
    "normalizedTrainLabel= train_label / np.amax(train_label)\n",
    "print(normalizedTrainInput)\n",
    "normalizedTestInput= test_input/max_input\n",
    "normalizedTestLabels = test_label / np.amax(train_label)"
   ]
  },
  {
   "cell_type": "code",
   "execution_count": 19,
   "metadata": {},
   "outputs": [
    {
     "name": "stdout",
     "output_type": "stream",
     "text": [
      "[[1.38516817e-02 0.00000000e+00 2.93439077e-01 0.00000000e+00\n",
      "  6.17680827e-01 7.03954155e-01 9.17000000e-01 3.71315463e-01\n",
      "  1.66666667e-01 4.31786217e-01 9.54545455e-01 1.00000000e+00\n",
      "  4.93020806e-01]\n",
      " [2.44672171e-04 8.25000000e-01 7.31795242e-02 0.00000000e+00\n",
      "  4.76463835e-01 8.72206304e-01 1.57000000e-01 5.85417775e-01\n",
      "  8.33333333e-02 4.89451477e-01 6.68181818e-01 9.96170320e-01\n",
      "  8.19067685e-02]\n",
      " [5.50509013e-02 0.00000000e+00 6.52487383e-01 0.00000000e+00\n",
      "  7.24454650e-01 5.69627507e-01 1.00000000e+00 1.24412948e-01\n",
      "  1.00000000e+00 9.36708861e-01 9.18181818e-01 9.46132527e-01\n",
      "  8.58572557e-02]\n",
      " [4.45175227e-04 0.00000000e+00 1.87094448e-01 0.00000000e+00\n",
      "  5.91274397e-01 6.91919771e-01 3.45000000e-01 5.58835887e-01\n",
      "  2.08333333e-01 3.15049226e-01 9.18181818e-01 1.00000000e+00\n",
      "  2.10956018e-01]\n",
      " [4.15067175e-02 0.00000000e+00 6.52487383e-01 0.00000000e+00\n",
      "  8.18599311e-01 7.30773639e-01 8.84000000e-01 2.39685163e-01\n",
      "  1.00000000e+00 9.36708861e-01 9.18181818e-01 9.86218191e-01\n",
      "  3.85830919e-01]]\n",
      "[0.304 0.846 1.    0.422 0.354]\n"
     ]
    }
   ],
   "source": [
    "validation_split= 0.8/0.4\n",
    "\n",
    "validation_input = normalizedTrainInput[:int(np.floor(normalizedTestInput.shape[0]/validation_split))]\n",
    "validation_label = normalizedTrainLabel[:int(np.floor(normalizedTestLabels.size/validation_split))]\n",
    "\n",
    "train_input = normalizedTrainInput[int(np.ceil(normalizedTestInput.shape[0]/validation_split)):]\n",
    "train_label = normalizedTrainLabel[int(np.ceil(normalizedTestLabels.size/validation_split)):]\n",
    "\n",
    "test_input =  normalizedTestInput\n",
    "test_label = normalizedTestLabels\n",
    "\n",
    "print(validation_input[:5])\n",
    "print(validation_label[:5])"
   ]
  },
  {
   "cell_type": "code",
   "execution_count": 20,
   "metadata": {},
   "outputs": [],
   "source": [
    "model = keras.models.Sequential()\n",
    "model.add(keras.layers.Dense(32, input_shape=(13,)))\n",
    "model.add(keras.layers.Dense(32))\n",
    "model.add(keras.layers.Dense(1))\n",
    "\n",
    "\n",
    "model.compile(optimizer=keras.optimizers.RMSprop(learning_rate=0.001),\n",
    "              loss=keras.losses.MSE,\n",
    "              metrics=[keras.metrics.MeanAbsoluteError()])"
   ]
  },
  {
   "cell_type": "code",
   "execution_count": 21,
   "metadata": {},
   "outputs": [
    {
     "name": "stdout",
     "output_type": "stream",
     "text": [
      "Epoch 1/100\n",
      "4/4 [==============================] - 1s 68ms/step - loss: 0.2963 - mean_absolute_error: 0.4531 - val_loss: 0.0814 - val_mean_absolute_error: 0.2268\n",
      "Epoch 2/100\n",
      "4/4 [==============================] - 0s 24ms/step - loss: 0.0999 - mean_absolute_error: 0.2506 - val_loss: 0.0565 - val_mean_absolute_error: 0.1869\n",
      "Epoch 3/100\n",
      "4/4 [==============================] - 0s 26ms/step - loss: 0.0724 - mean_absolute_error: 0.2126 - val_loss: 0.0398 - val_mean_absolute_error: 0.1598\n",
      "Epoch 4/100\n",
      "4/4 [==============================] - 0s 25ms/step - loss: 0.0541 - mean_absolute_error: 0.1821 - val_loss: 0.0348 - val_mean_absolute_error: 0.1522\n",
      "Epoch 5/100\n",
      "4/4 [==============================] - 0s 29ms/step - loss: 0.0432 - mean_absolute_error: 0.1617 - val_loss: 0.0359 - val_mean_absolute_error: 0.1585\n",
      "Epoch 6/100\n",
      "4/4 [==============================] - 0s 30ms/step - loss: 0.0373 - mean_absolute_error: 0.1491 - val_loss: 0.0254 - val_mean_absolute_error: 0.1094\n",
      "Epoch 7/100\n",
      "4/4 [==============================] - 0s 27ms/step - loss: 0.0332 - mean_absolute_error: 0.1336 - val_loss: 0.0258 - val_mean_absolute_error: 0.1038\n",
      "Epoch 8/100\n",
      "4/4 [==============================] - 0s 28ms/step - loss: 0.0293 - mean_absolute_error: 0.1228 - val_loss: 0.0221 - val_mean_absolute_error: 0.1021\n",
      "Epoch 9/100\n",
      "4/4 [==============================] - 0s 28ms/step - loss: 0.0229 - mean_absolute_error: 0.1088 - val_loss: 0.0221 - val_mean_absolute_error: 0.1174\n",
      "Epoch 10/100\n",
      "4/4 [==============================] - 0s 29ms/step - loss: 0.0195 - mean_absolute_error: 0.1014 - val_loss: 0.0235 - val_mean_absolute_error: 0.0941\n",
      "Epoch 11/100\n",
      "4/4 [==============================] - 0s 22ms/step - loss: 0.0278 - mean_absolute_error: 0.1317 - val_loss: 0.0273 - val_mean_absolute_error: 0.0990\n",
      "Epoch 12/100\n",
      "4/4 [==============================] - 0s 23ms/step - loss: 0.0186 - mean_absolute_error: 0.0958 - val_loss: 0.0202 - val_mean_absolute_error: 0.1110\n",
      "Epoch 13/100\n",
      "4/4 [==============================] - 0s 26ms/step - loss: 0.0186 - mean_absolute_error: 0.0996 - val_loss: 0.0333 - val_mean_absolute_error: 0.1647\n",
      "Epoch 14/100\n",
      "4/4 [==============================] - 0s 21ms/step - loss: 0.0232 - mean_absolute_error: 0.1200 - val_loss: 0.0269 - val_mean_absolute_error: 0.1434\n",
      "Epoch 15/100\n",
      "4/4 [==============================] - 0s 23ms/step - loss: 0.0201 - mean_absolute_error: 0.1072 - val_loss: 0.0211 - val_mean_absolute_error: 0.1169\n",
      "Epoch 16/100\n",
      "4/4 [==============================] - 0s 23ms/step - loss: 0.0141 - mean_absolute_error: 0.0876 - val_loss: 0.0182 - val_mean_absolute_error: 0.1006\n",
      "Epoch 17/100\n",
      "4/4 [==============================] - 0s 21ms/step - loss: 0.0124 - mean_absolute_error: 0.0786 - val_loss: 0.0259 - val_mean_absolute_error: 0.1405\n",
      "Epoch 18/100\n",
      "4/4 [==============================] - 0s 29ms/step - loss: 0.0227 - mean_absolute_error: 0.1228 - val_loss: 0.0239 - val_mean_absolute_error: 0.1332\n",
      "Epoch 19/100\n",
      "4/4 [==============================] - 0s 24ms/step - loss: 0.0142 - mean_absolute_error: 0.0905 - val_loss: 0.0185 - val_mean_absolute_error: 0.1042\n",
      "Epoch 20/100\n",
      "4/4 [==============================] - 0s 19ms/step - loss: 0.0150 - mean_absolute_error: 0.0915 - val_loss: 0.0271 - val_mean_absolute_error: 0.1446\n",
      "Epoch 21/100\n",
      "4/4 [==============================] - 0s 21ms/step - loss: 0.0179 - mean_absolute_error: 0.1050 - val_loss: 0.0186 - val_mean_absolute_error: 0.1063\n",
      "Epoch 22/100\n",
      "4/4 [==============================] - 0s 19ms/step - loss: 0.0158 - mean_absolute_error: 0.0963 - val_loss: 0.0176 - val_mean_absolute_error: 0.0980\n",
      "Epoch 23/100\n",
      "4/4 [==============================] - 0s 20ms/step - loss: 0.0108 - mean_absolute_error: 0.0743 - val_loss: 0.0185 - val_mean_absolute_error: 0.0842\n",
      "Epoch 24/100\n",
      "4/4 [==============================] - 0s 19ms/step - loss: 0.0110 - mean_absolute_error: 0.0754 - val_loss: 0.0195 - val_mean_absolute_error: 0.0832\n",
      "Epoch 25/100\n",
      "4/4 [==============================] - 0s 22ms/step - loss: 0.0234 - mean_absolute_error: 0.1256 - val_loss: 0.0194 - val_mean_absolute_error: 0.0841\n",
      "Epoch 26/100\n",
      "4/4 [==============================] - 0s 19ms/step - loss: 0.0143 - mean_absolute_error: 0.0919 - val_loss: 0.0176 - val_mean_absolute_error: 0.0837\n",
      "Epoch 27/100\n",
      "4/4 [==============================] - 0s 20ms/step - loss: 0.0107 - mean_absolute_error: 0.0740 - val_loss: 0.0204 - val_mean_absolute_error: 0.1173\n",
      "Epoch 28/100\n",
      "4/4 [==============================] - 0s 20ms/step - loss: 0.0133 - mean_absolute_error: 0.0906 - val_loss: 0.0244 - val_mean_absolute_error: 0.1353\n",
      "Epoch 29/100\n",
      "4/4 [==============================] - 0s 19ms/step - loss: 0.0151 - mean_absolute_error: 0.1003 - val_loss: 0.0164 - val_mean_absolute_error: 0.0883\n",
      "Epoch 30/100\n",
      "4/4 [==============================] - 0s 18ms/step - loss: 0.0114 - mean_absolute_error: 0.0774 - val_loss: 0.0219 - val_mean_absolute_error: 0.0890\n",
      "Epoch 31/100\n",
      "4/4 [==============================] - 0s 19ms/step - loss: 0.0159 - mean_absolute_error: 0.0957 - val_loss: 0.0280 - val_mean_absolute_error: 0.1071\n",
      "Epoch 32/100\n",
      "4/4 [==============================] - 0s 22ms/step - loss: 0.0143 - mean_absolute_error: 0.0928 - val_loss: 0.0170 - val_mean_absolute_error: 0.0853\n",
      "Epoch 33/100\n",
      "4/4 [==============================] - 0s 18ms/step - loss: 0.0126 - mean_absolute_error: 0.0815 - val_loss: 0.0312 - val_mean_absolute_error: 0.1575\n",
      "Epoch 34/100\n",
      "4/4 [==============================] - 0s 21ms/step - loss: 0.0175 - mean_absolute_error: 0.1087 - val_loss: 0.0169 - val_mean_absolute_error: 0.0903\n",
      "Epoch 35/100\n",
      "4/4 [==============================] - 0s 19ms/step - loss: 0.0102 - mean_absolute_error: 0.0724 - val_loss: 0.0169 - val_mean_absolute_error: 0.0865\n",
      "Epoch 36/100\n",
      "4/4 [==============================] - 0s 21ms/step - loss: 0.0098 - mean_absolute_error: 0.0700 - val_loss: 0.0165 - val_mean_absolute_error: 0.0877\n",
      "Epoch 37/100\n",
      "4/4 [==============================] - 0s 18ms/step - loss: 0.0129 - mean_absolute_error: 0.0870 - val_loss: 0.0403 - val_mean_absolute_error: 0.1554\n",
      "Epoch 38/100\n",
      "4/4 [==============================] - 0s 20ms/step - loss: 0.0254 - mean_absolute_error: 0.1315 - val_loss: 0.0172 - val_mean_absolute_error: 0.0821\n",
      "Epoch 39/100\n",
      "4/4 [==============================] - 0s 19ms/step - loss: 0.0102 - mean_absolute_error: 0.0724 - val_loss: 0.0165 - val_mean_absolute_error: 0.0863\n",
      "Epoch 40/100\n",
      "4/4 [==============================] - 0s 19ms/step - loss: 0.0099 - mean_absolute_error: 0.0698 - val_loss: 0.0179 - val_mean_absolute_error: 0.0801\n",
      "Epoch 41/100\n",
      "4/4 [==============================] - 0s 21ms/step - loss: 0.0112 - mean_absolute_error: 0.0772 - val_loss: 0.0302 - val_mean_absolute_error: 0.1541\n",
      "Epoch 42/100\n",
      "4/4 [==============================] - 0s 20ms/step - loss: 0.0221 - mean_absolute_error: 0.1271 - val_loss: 0.0185 - val_mean_absolute_error: 0.1037\n",
      "Epoch 43/100\n",
      "4/4 [==============================] - 0s 21ms/step - loss: 0.0098 - mean_absolute_error: 0.0710 - val_loss: 0.0167 - val_mean_absolute_error: 0.0863\n",
      "Epoch 44/100\n",
      "4/4 [==============================] - 0s 19ms/step - loss: 0.0099 - mean_absolute_error: 0.0700 - val_loss: 0.0175 - val_mean_absolute_error: 0.0790\n",
      "Epoch 45/100\n",
      "4/4 [==============================] - 0s 21ms/step - loss: 0.0134 - mean_absolute_error: 0.0860 - val_loss: 0.0304 - val_mean_absolute_error: 0.1200\n",
      "Epoch 46/100\n",
      "4/4 [==============================] - 0s 23ms/step - loss: 0.0200 - mean_absolute_error: 0.1136 - val_loss: 0.0160 - val_mean_absolute_error: 0.0807\n",
      "Epoch 47/100\n",
      "4/4 [==============================] - 0s 21ms/step - loss: 0.0113 - mean_absolute_error: 0.0780 - val_loss: 0.0249 - val_mean_absolute_error: 0.0992\n",
      "Epoch 48/100\n",
      "4/4 [==============================] - 0s 20ms/step - loss: 0.0167 - mean_absolute_error: 0.1026 - val_loss: 0.0200 - val_mean_absolute_error: 0.0825\n",
      "Epoch 49/100\n",
      "4/4 [==============================] - 0s 19ms/step - loss: 0.0121 - mean_absolute_error: 0.0821 - val_loss: 0.0190 - val_mean_absolute_error: 0.0799\n",
      "Epoch 50/100\n",
      "4/4 [==============================] - 0s 18ms/step - loss: 0.0101 - mean_absolute_error: 0.0739 - val_loss: 0.0164 - val_mean_absolute_error: 0.0796\n",
      "Epoch 51/100\n",
      "4/4 [==============================] - 0s 19ms/step - loss: 0.0113 - mean_absolute_error: 0.0816 - val_loss: 0.0208 - val_mean_absolute_error: 0.0861\n",
      "Epoch 52/100\n",
      "4/4 [==============================] - 0s 19ms/step - loss: 0.0142 - mean_absolute_error: 0.0943 - val_loss: 0.0181 - val_mean_absolute_error: 0.0789\n",
      "Epoch 53/100\n",
      "4/4 [==============================] - 0s 18ms/step - loss: 0.0135 - mean_absolute_error: 0.0911 - val_loss: 0.0170 - val_mean_absolute_error: 0.0780\n",
      "Epoch 54/100\n",
      "4/4 [==============================] - 0s 18ms/step - loss: 0.0100 - mean_absolute_error: 0.0719 - val_loss: 0.0234 - val_mean_absolute_error: 0.0929\n",
      "Epoch 55/100\n",
      "4/4 [==============================] - 0s 19ms/step - loss: 0.0194 - mean_absolute_error: 0.1116 - val_loss: 0.0225 - val_mean_absolute_error: 0.0905\n",
      "Epoch 56/100\n",
      "4/4 [==============================] - 0s 18ms/step - loss: 0.0115 - mean_absolute_error: 0.0791 - val_loss: 0.0164 - val_mean_absolute_error: 0.0790\n",
      "Epoch 57/100\n",
      "4/4 [==============================] - 0s 18ms/step - loss: 0.0106 - mean_absolute_error: 0.0733 - val_loss: 0.0245 - val_mean_absolute_error: 0.0996\n",
      "Epoch 58/100\n",
      "4/4 [==============================] - 0s 19ms/step - loss: 0.0145 - mean_absolute_error: 0.0937 - val_loss: 0.0215 - val_mean_absolute_error: 0.0895\n",
      "Epoch 59/100\n",
      "4/4 [==============================] - 0s 20ms/step - loss: 0.0105 - mean_absolute_error: 0.0765 - val_loss: 0.0162 - val_mean_absolute_error: 0.0792\n",
      "Epoch 60/100\n",
      "4/4 [==============================] - 0s 23ms/step - loss: 0.0091 - mean_absolute_error: 0.0667 - val_loss: 0.0157 - val_mean_absolute_error: 0.0846\n",
      "Epoch 61/100\n",
      "4/4 [==============================] - 0s 23ms/step - loss: 0.0117 - mean_absolute_error: 0.0804 - val_loss: 0.0326 - val_mean_absolute_error: 0.1313\n",
      "Epoch 62/100\n",
      "4/4 [==============================] - 0s 19ms/step - loss: 0.0211 - mean_absolute_error: 0.1186 - val_loss: 0.0187 - val_mean_absolute_error: 0.0823\n",
      "Epoch 63/100\n",
      "4/4 [==============================] - 0s 20ms/step - loss: 0.0120 - mean_absolute_error: 0.0810 - val_loss: 0.0211 - val_mean_absolute_error: 0.0846\n",
      "Epoch 64/100\n",
      "4/4 [==============================] - 0s 22ms/step - loss: 0.0132 - mean_absolute_error: 0.0848 - val_loss: 0.0159 - val_mean_absolute_error: 0.0832\n",
      "Epoch 65/100\n",
      "4/4 [==============================] - 0s 21ms/step - loss: 0.0093 - mean_absolute_error: 0.0688 - val_loss: 0.0163 - val_mean_absolute_error: 0.0782\n",
      "Epoch 66/100\n",
      "4/4 [==============================] - 0s 19ms/step - loss: 0.0117 - mean_absolute_error: 0.0754 - val_loss: 0.0239 - val_mean_absolute_error: 0.1012\n",
      "Epoch 67/100\n",
      "4/4 [==============================] - 0s 20ms/step - loss: 0.0163 - mean_absolute_error: 0.1014 - val_loss: 0.0233 - val_mean_absolute_error: 0.0957\n",
      "Epoch 68/100\n",
      "4/4 [==============================] - 0s 18ms/step - loss: 0.0133 - mean_absolute_error: 0.0868 - val_loss: 0.0171 - val_mean_absolute_error: 0.0763\n",
      "Epoch 69/100\n",
      "4/4 [==============================] - 0s 19ms/step - loss: 0.0091 - mean_absolute_error: 0.0670 - val_loss: 0.0163 - val_mean_absolute_error: 0.0786\n",
      "Epoch 70/100\n",
      "4/4 [==============================] - 0s 20ms/step - loss: 0.0100 - mean_absolute_error: 0.0717 - val_loss: 0.0220 - val_mean_absolute_error: 0.0903\n",
      "Epoch 71/100\n",
      "4/4 [==============================] - 0s 19ms/step - loss: 0.0140 - mean_absolute_error: 0.0957 - val_loss: 0.0161 - val_mean_absolute_error: 0.0775\n",
      "Epoch 72/100\n",
      "4/4 [==============================] - 0s 19ms/step - loss: 0.0101 - mean_absolute_error: 0.0725 - val_loss: 0.0187 - val_mean_absolute_error: 0.0811\n",
      "Epoch 73/100\n",
      "4/4 [==============================] - 0s 21ms/step - loss: 0.0155 - mean_absolute_error: 0.0993 - val_loss: 0.0246 - val_mean_absolute_error: 0.1006\n",
      "Epoch 74/100\n",
      "4/4 [==============================] - 0s 23ms/step - loss: 0.0144 - mean_absolute_error: 0.0916 - val_loss: 0.0169 - val_mean_absolute_error: 0.0751\n",
      "Epoch 75/100\n",
      "4/4 [==============================] - 0s 21ms/step - loss: 0.0099 - mean_absolute_error: 0.0695 - val_loss: 0.0192 - val_mean_absolute_error: 0.0809\n",
      "Epoch 76/100\n",
      "4/4 [==============================] - 0s 19ms/step - loss: 0.0109 - mean_absolute_error: 0.0784 - val_loss: 0.0162 - val_mean_absolute_error: 0.0828\n",
      "Epoch 77/100\n",
      "4/4 [==============================] - 0s 21ms/step - loss: 0.0092 - mean_absolute_error: 0.0670 - val_loss: 0.0168 - val_mean_absolute_error: 0.0956\n",
      "Epoch 78/100\n",
      "4/4 [==============================] - 0s 19ms/step - loss: 0.0212 - mean_absolute_error: 0.1156 - val_loss: 0.0223 - val_mean_absolute_error: 0.1248\n",
      "Epoch 79/100\n",
      "4/4 [==============================] - 0s 19ms/step - loss: 0.0125 - mean_absolute_error: 0.0861 - val_loss: 0.0162 - val_mean_absolute_error: 0.0840\n",
      "Epoch 80/100\n",
      "4/4 [==============================] - 0s 33ms/step - loss: 0.0091 - mean_absolute_error: 0.0671 - val_loss: 0.0157 - val_mean_absolute_error: 0.0802\n",
      "Epoch 81/100\n",
      "4/4 [==============================] - 0s 20ms/step - loss: 0.0092 - mean_absolute_error: 0.0671 - val_loss: 0.0203 - val_mean_absolute_error: 0.1145\n",
      "Epoch 82/100\n",
      "4/4 [==============================] - 0s 19ms/step - loss: 0.0146 - mean_absolute_error: 0.0936 - val_loss: 0.0194 - val_mean_absolute_error: 0.1115\n",
      "Epoch 83/100\n",
      "4/4 [==============================] - 0s 21ms/step - loss: 0.0127 - mean_absolute_error: 0.0877 - val_loss: 0.0166 - val_mean_absolute_error: 0.0939\n",
      "Epoch 84/100\n",
      "4/4 [==============================] - 0s 19ms/step - loss: 0.0093 - mean_absolute_error: 0.0686 - val_loss: 0.0184 - val_mean_absolute_error: 0.1050\n",
      "Epoch 85/100\n",
      "4/4 [==============================] - 0s 23ms/step - loss: 0.0137 - mean_absolute_error: 0.0924 - val_loss: 0.0222 - val_mean_absolute_error: 0.1244\n",
      "Epoch 86/100\n",
      "4/4 [==============================] - 0s 28ms/step - loss: 0.0135 - mean_absolute_error: 0.0895 - val_loss: 0.0176 - val_mean_absolute_error: 0.1004\n",
      "Epoch 87/100\n",
      "4/4 [==============================] - 0s 21ms/step - loss: 0.0104 - mean_absolute_error: 0.0758 - val_loss: 0.0193 - val_mean_absolute_error: 0.1106\n",
      "Epoch 88/100\n",
      "4/4 [==============================] - 0s 26ms/step - loss: 0.0096 - mean_absolute_error: 0.0738 - val_loss: 0.0170 - val_mean_absolute_error: 0.0876\n",
      "Epoch 89/100\n",
      "4/4 [==============================] - 0s 19ms/step - loss: 0.0094 - mean_absolute_error: 0.0696 - val_loss: 0.0172 - val_mean_absolute_error: 0.0931\n",
      "Epoch 90/100\n",
      "4/4 [==============================] - 0s 20ms/step - loss: 0.0153 - mean_absolute_error: 0.0971 - val_loss: 0.0248 - val_mean_absolute_error: 0.1337\n",
      "Epoch 91/100\n",
      "4/4 [==============================] - 0s 18ms/step - loss: 0.0145 - mean_absolute_error: 0.0942 - val_loss: 0.0159 - val_mean_absolute_error: 0.0843\n",
      "Epoch 92/100\n",
      "4/4 [==============================] - 0s 20ms/step - loss: 0.0091 - mean_absolute_error: 0.0670 - val_loss: 0.0155 - val_mean_absolute_error: 0.0840\n",
      "Epoch 93/100\n",
      "4/4 [==============================] - 0s 18ms/step - loss: 0.0092 - mean_absolute_error: 0.0676 - val_loss: 0.0208 - val_mean_absolute_error: 0.0869\n",
      "Epoch 94/100\n",
      "4/4 [==============================] - 0s 18ms/step - loss: 0.0113 - mean_absolute_error: 0.0796 - val_loss: 0.0201 - val_mean_absolute_error: 0.0807\n",
      "Epoch 95/100\n",
      "4/4 [==============================] - 0s 20ms/step - loss: 0.0157 - mean_absolute_error: 0.0987 - val_loss: 0.0186 - val_mean_absolute_error: 0.0787\n",
      "Epoch 96/100\n",
      "4/4 [==============================] - 0s 18ms/step - loss: 0.0137 - mean_absolute_error: 0.0871 - val_loss: 0.0202 - val_mean_absolute_error: 0.0842\n",
      "Epoch 97/100\n",
      "4/4 [==============================] - 0s 19ms/step - loss: 0.0141 - mean_absolute_error: 0.0896 - val_loss: 0.0157 - val_mean_absolute_error: 0.0772\n",
      "Epoch 98/100\n",
      "4/4 [==============================] - 0s 18ms/step - loss: 0.0092 - mean_absolute_error: 0.0678 - val_loss: 0.0168 - val_mean_absolute_error: 0.0952\n",
      "Epoch 99/100\n",
      "4/4 [==============================] - 0s 18ms/step - loss: 0.0100 - mean_absolute_error: 0.0731 - val_loss: 0.0168 - val_mean_absolute_error: 0.0911\n",
      "Epoch 100/100\n",
      "4/4 [==============================] - 0s 19ms/step - loss: 0.0110 - mean_absolute_error: 0.0759 - val_loss: 0.0229 - val_mean_absolute_error: 0.1272\n",
      "{'loss': [0.29630032181739807, 0.0999225601553917, 0.07238943874835968, 0.054119206964969635, 0.0432063452899456, 0.03731031343340874, 0.033246930688619614, 0.029338248074054718, 0.022881068289279938, 0.019497394561767578, 0.027783196419477463, 0.018555480986833572, 0.01864331215620041, 0.023210031911730766, 0.020056093111634254, 0.014145112596452236, 0.012404580600559711, 0.022734522819519043, 0.01415067445486784, 0.015043065883219242, 0.017874477431178093, 0.01581123284995556, 0.01083359681069851, 0.01095417607575655, 0.0234303567558527, 0.014299077913165092, 0.010694513097405434, 0.013294265605509281, 0.01511359866708517, 0.01144671905785799, 0.015934733673930168, 0.014251697808504105, 0.012569793500006199, 0.017501655966043472, 0.010162497870624065, 0.009805109351873398, 0.0128679433837533, 0.025405246764421463, 0.010202338919043541, 0.009867885150015354, 0.011211325414478779, 0.02206697314977646, 0.009833604097366333, 0.009935334324836731, 0.013437013141810894, 0.02002723328769207, 0.011268139816820621, 0.01673956960439682, 0.01207028143107891, 0.010096898302435875, 0.011346442624926567, 0.014166999608278275, 0.013536899350583553, 0.00998611655086279, 0.019382445141673088, 0.011509517207741737, 0.010595927946269512, 0.01451211329549551, 0.010513834655284882, 0.009101426228880882, 0.011663516983389854, 0.02114800177514553, 0.012015948072075844, 0.013151711784303188, 0.009270625188946724, 0.011735709384083748, 0.016298575326800346, 0.013310699723660946, 0.009062540717422962, 0.010022236034274101, 0.014006765559315681, 0.010121967643499374, 0.015501025132834911, 0.01440416555851698, 0.009882691316306591, 0.010899608954787254, 0.009196162223815918, 0.021169310435652733, 0.012532971799373627, 0.0091444356366992, 0.00922927912324667, 0.014646596275269985, 0.012688906863331795, 0.009257905185222626, 0.013672010973095894, 0.013537605293095112, 0.010352853685617447, 0.009609702974557877, 0.009394334629178047, 0.015279613435268402, 0.014516167342662811, 0.009063182398676872, 0.009167764335870743, 0.011329063214361668, 0.015651213005185127, 0.013735998421907425, 0.014068865217268467, 0.00921788439154625, 0.009953522123396397, 0.011036587879061699], 'mean_absolute_error': [0.45310983061790466, 0.25060245394706726, 0.21259136497974396, 0.18210063874721527, 0.16165867447853088, 0.14912189543247223, 0.13358840346336365, 0.12282322347164154, 0.10880628228187561, 0.1014031246304512, 0.1317089945077896, 0.09580887854099274, 0.09962648153305054, 0.11999322474002838, 0.1072273701429367, 0.08763666450977325, 0.07864626497030258, 0.12275443971157074, 0.09047994762659073, 0.09153082966804504, 0.10497554391622543, 0.09632386267185211, 0.0742500051856041, 0.07544520497322083, 0.12555338442325592, 0.0918782502412796, 0.0739748477935791, 0.09055735915899277, 0.10030442476272583, 0.07735050469636917, 0.0956609919667244, 0.09275330603122711, 0.08149517327547073, 0.10870040208101273, 0.07239647209644318, 0.07002834230661392, 0.08699437975883484, 0.1314958930015564, 0.0724417120218277, 0.06976773589849472, 0.07718296349048615, 0.12712500989437103, 0.07096293568611145, 0.0699625238776207, 0.08601515740156174, 0.1136210635304451, 0.07797201722860336, 0.10255049914121628, 0.08211290091276169, 0.07385902106761932, 0.08159036934375763, 0.09427817165851593, 0.09107597172260284, 0.07186847180128098, 0.1116182804107666, 0.07905634492635727, 0.0732596293091774, 0.09365261346101761, 0.07648763060569763, 0.06672383099794388, 0.08036303520202637, 0.11861810833215714, 0.08098595589399338, 0.08476833254098892, 0.06884780526161194, 0.07539675384759903, 0.10139437019824982, 0.0867730900645256, 0.06699836999177933, 0.07165278494358063, 0.09573367238044739, 0.07247795909643173, 0.09933333098888397, 0.09156814217567444, 0.06951330602169037, 0.07835016399621964, 0.06699071824550629, 0.11557736247777939, 0.08611448854207993, 0.06711845099925995, 0.06710817664861679, 0.09356407076120377, 0.08770306408405304, 0.06859017163515091, 0.09238194674253464, 0.08951286226511002, 0.07575390487909317, 0.07381149381399155, 0.06956163793802261, 0.09706269204616547, 0.09415271878242493, 0.06698186695575714, 0.06759429723024368, 0.0795736089348793, 0.09869106113910675, 0.08714950084686279, 0.08955041319131851, 0.06780290603637695, 0.07309737801551819, 0.07592412829399109], 'val_loss': [0.08144436031579971, 0.056511037051677704, 0.03975079953670502, 0.03476288914680481, 0.03588588908314705, 0.025364553555846214, 0.025828005746006966, 0.022141246125102043, 0.022106388583779335, 0.023498767986893654, 0.02730722725391388, 0.020209146663546562, 0.03333809971809387, 0.026936667039990425, 0.021088657900691032, 0.018170854076743126, 0.02589564025402069, 0.023904697969555855, 0.01846769079566002, 0.027071179822087288, 0.018584609031677246, 0.017598168924450874, 0.018532155081629753, 0.019526496529579163, 0.019392309710383415, 0.017597317695617676, 0.02038157731294632, 0.02443641982972622, 0.01635926589369774, 0.02192911133170128, 0.028009073808789253, 0.017042456194758415, 0.031223470345139503, 0.01688585989177227, 0.01685836911201477, 0.01648620516061783, 0.04030522331595421, 0.01723399944603443, 0.016527479514479637, 0.017917759716510773, 0.030205829069018364, 0.01853100024163723, 0.01667582243680954, 0.01748211681842804, 0.030418625101447105, 0.016026705503463745, 0.024861594662070274, 0.020020319148898125, 0.01901555433869362, 0.016370153054594994, 0.02081000618636608, 0.018119914457201958, 0.016981035470962524, 0.023424746468663216, 0.02250705473124981, 0.016449958086013794, 0.024482129141688347, 0.02149154245853424, 0.01617867313325405, 0.015729103237390518, 0.0326201356947422, 0.018676869571208954, 0.021062621846795082, 0.015886016190052032, 0.0163151565939188, 0.02393178828060627, 0.02334694378077984, 0.017119497060775757, 0.016288304701447487, 0.021957892924547195, 0.016067299991846085, 0.018741656094789505, 0.02463863603770733, 0.01694941334426403, 0.019184106960892677, 0.016189847141504288, 0.016769878566265106, 0.02231735549867153, 0.016164008527994156, 0.01573719084262848, 0.02025844156742096, 0.019355399534106255, 0.01661810278892517, 0.018393976613879204, 0.02217365987598896, 0.01757488213479519, 0.01929454877972603, 0.017001710832118988, 0.01719941571354866, 0.024784522131085396, 0.01589585468173027, 0.01553628034889698, 0.020778870210051537, 0.02008065953850746, 0.018636872991919518, 0.020207710564136505, 0.01566202938556671, 0.016794899478554726, 0.01684386283159256, 0.022878002375364304], 'val_mean_absolute_error': [0.22683490812778473, 0.18685291707515717, 0.1598183810710907, 0.15218691527843475, 0.158544659614563, 0.10935254395008087, 0.10378909856081009, 0.10212167352437973, 0.11742440611124039, 0.0941372886300087, 0.098965123295784, 0.11097978055477142, 0.16465400159358978, 0.14339576661586761, 0.11694486439228058, 0.10055805742740631, 0.1405160129070282, 0.13320083916187286, 0.10419619083404541, 0.14464229345321655, 0.10627592355012894, 0.0979972705245018, 0.08419112861156464, 0.08324500918388367, 0.08412992209196091, 0.08372749388217926, 0.11728773266077042, 0.13532960414886475, 0.08833149075508118, 0.08903548121452332, 0.10713132470846176, 0.08533956855535507, 0.15746799111366272, 0.090304896235466, 0.08652552217245102, 0.08771354705095291, 0.155389666557312, 0.08213939517736435, 0.08629380166530609, 0.08011965453624725, 0.15412262082099915, 0.10374901443719864, 0.08632044494152069, 0.07904356718063354, 0.12002762407064438, 0.08073221147060394, 0.09922853857278824, 0.08245263248682022, 0.07987450808286667, 0.07958243787288666, 0.08614999800920486, 0.07892443984746933, 0.077984519302845, 0.0929371789097786, 0.0904521644115448, 0.07903198152780533, 0.09961622953414917, 0.08945725858211517, 0.07923082262277603, 0.08463431149721146, 0.13127577304840088, 0.08227645605802536, 0.08460719138383865, 0.0832161083817482, 0.0782134011387825, 0.10115327686071396, 0.09566964954137802, 0.07630239427089691, 0.07855858653783798, 0.09028822928667068, 0.07748514413833618, 0.08114898204803467, 0.10063141584396362, 0.07509971410036087, 0.08092407882213593, 0.08283084630966187, 0.09560218453407288, 0.1247570812702179, 0.08397246152162552, 0.0801941379904747, 0.11448869854211807, 0.11153186857700348, 0.09386659413576126, 0.1049589291214943, 0.12440506368875504, 0.10040047764778137, 0.11060942709445953, 0.0876019075512886, 0.09309663623571396, 0.133655846118927, 0.08432111889123917, 0.08401892334222794, 0.08692833036184311, 0.08068021386861801, 0.0786844789981842, 0.08418148756027222, 0.07715865969657898, 0.09518638253211975, 0.09106055647134781, 0.12718689441680908]}\n",
      "2/2 [==============================] - 0s 7ms/step - loss: 0.0186 - mean_absolute_error: 0.1093\n",
      "[0.01859818585216999, 0.10927854478359222]\n"
     ]
    }
   ],
   "source": [
    "history = model.fit(train_input,train_label,batch_size=101,epochs=100, validation_data=(validation_input, validation_label), verbose=0)\n",
    "history_dic = history.history\n",
    "print(history_dic)\n",
    "evalutaion = model.evaluate(test_input,test_label,batch_size=101)\n",
    "print(evalutaion)"
   ]
  },
  {
   "cell_type": "code",
   "execution_count": 22,
   "metadata": {},
   "outputs": [
    {
     "data": {
      "image/png": "[encoded data removed]",
      "text/plain": [
       "<Figure size 432x288 with 1 Axes>"
      ]
     },
     "metadata": {
      "needs_background": "light"
     },
     "output_type": "display_data"
    },
    {
     "data": {
      "image/png": "[encoded data removed]",
      "text/plain": [
       "<Figure size 432x288 with 1 Axes>"
      ]
     },
     "metadata": {
      "needs_background": "light"
     },
     "output_type": "display_data"
    },
    {
     "data": {
      "text/plain": [
       "<Figure size 432x288 with 0 Axes>"
      ]
     },
     "metadata": {},
     "output_type": "display_data"
    }
   ],
   "source": [
    "plt.plot(range( len(history_dic['mean_absolute_error'])), history_dic['mean_absolute_error'],'bo',label='train')\n",
    "plt.plot(range(len(history_dic['val_mean_absolute_error'])), history_dic['val_mean_absolute_error'], 'b', label='val')\n",
    "plt.ylabel('MAE')\n",
    "plt.xlabel('Epoch')\n",
    "plt.title('MAE')\n",
    "plt.legend()\n",
    "plt.show()\n",
    "plt.clf()\n",
    "plt.plot(range(len(history_dic['loss'])), history_dic['loss'],'bo',label=\"train\")\n",
    "plt.plot(range(len(history_dic['val_loss'])), history_dic['val_loss'], 'b', label='val')\n",
    "plt.ylabel('loss')\n",
    "plt.xlabel('Epoch')\n",
    "plt.title('MSE')\n",
    "plt.legend()\n",
    "plt.show()\n",
    "plt.clf()"
   ]
  }
 ],
 "metadata": {
  "interpreter": {
   "hash": "fb449e53dd372215b80e7ed3be416481dfeee2fd742bfe6369d3120d1b21554b"
  },
  "kernelspec": {
   "display_name": "Python 3.10.4 64-bit",
   "language": "python",
   "name": "python3"
  },
  "language_info": {
   "codemirror_mode": {
    "name": "ipython",
    "version": 3
   },
   "file_extension": ".py",
   "mimetype": "text/x-python",
   "name": "python",
   "nbconvert_exporter": "python",
   "pygments_lexer": "ipython3",
   "version": "3.10.4"
  },
  "orig_nbformat": 4
 },
 "nbformat": 4,
 "nbformat_minor": 2
}
