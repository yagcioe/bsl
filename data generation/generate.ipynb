{
 "cells": [
  {
   "cell_type": "code",
   "execution_count": null,
   "metadata": {},
   "outputs": [],
   "source": [
    "import os\n",
    "\n"
   ]
  },
  {
   "cell_type": "code",
   "execution_count": null,
   "metadata": {},
   "outputs": [],
   "source": [
    "\n",
    "def wavFileGeneratorKEC():\n",
    "    src = '/workspace/data/KEC'\n",
    "    recFolders = list(filter(lambda f: rec_filter(f), os.listdir(src)))\n",
    "    print(recFolders)\n",
    "    \n",
    "def rec_filter(x):\n",
    "    return True if 'rec' in x else False\n",
    "\n",
    "def generate():\n",
    "    wavFileGeneratorKEC()\n",
    "\n",
    "if __name__ == '__main__':\n",
    "    generate()"
   ]
  }
 ],
 "metadata": {
  "language_info": {
   "name": "python"
  },
  "orig_nbformat": 4
 },
 "nbformat": 4,
 "nbformat_minor": 2
}
